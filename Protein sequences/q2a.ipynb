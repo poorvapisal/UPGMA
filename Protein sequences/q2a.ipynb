{
 "cells": [
  {
   "cell_type": "code",
   "execution_count": 1,
   "id": "a513612f",
   "metadata": {},
   "outputs": [
    {
     "name": "stderr",
     "output_type": "stream",
     "text": [
      "/home/poorva/.local/lib/python3.8/site-packages/Bio/SubsMat/__init__.py:126: BiopythonDeprecationWarning: Bio.SubsMat has been deprecated, and we intend to remove it in a future release of Biopython. As an alternative, please consider using Bio.Align.substitution_matrices as a replacement, and contact the Biopython developers if you still need the Bio.SubsMat module.\n",
      "  warnings.warn(\n"
     ]
    }
   ],
   "source": [
    "import numpy as np\n",
    "import pandas as pd\n",
    "from Bio.SubsMat import MatrixInfo"
   ]
  },
  {
   "cell_type": "code",
   "execution_count": 2,
   "id": "627aba69",
   "metadata": {},
   "outputs": [],
   "source": [
    "b62 = MatrixInfo.blosum62\n",
    "for key in list(b62):\n",
    "    b62[(key[1],key[0])] = b62[key]"
   ]
  },
  {
   "cell_type": "code",
   "execution_count": 3,
   "id": "414c8adb",
   "metadata": {},
   "outputs": [],
   "source": [
    "def sequences(filename):\n",
    "    \n",
    "    file = open(filename, 'r')\n",
    "    Lines = file.readlines()\n",
    "    \n",
    "    name=[]\n",
    "    sequence=[]\n",
    "    n=\"\"\n",
    "    seq=\"\"\n",
    "    \n",
    "    for line in Lines:\n",
    "        if line[0]=='\\n':\n",
    "            name.append(n)\n",
    "            sequence.append(seq)\n",
    "            n=\"\"\n",
    "            seq=\"\"\n",
    "        \n",
    "        elif line[0]=='>':\n",
    "            for i in range(len(line)):\n",
    "                if line[i]!='\\n' and line[i]!=\">\":\n",
    "                    n = n + line[i]\n",
    "            \n",
    "        else:\n",
    "            for i in range(len(line)):\n",
    "                if line[i]!='\\n' and line[i]!=\" \":\n",
    "                    seq = seq + line[i]\n",
    "                  \n",
    "    return name,sequence"
   ]
  },
  {
   "cell_type": "code",
   "execution_count": 4,
   "id": "ba42be9c",
   "metadata": {},
   "outputs": [],
   "source": [
    "def get_score(str1, str2):\n",
    "    \n",
    "    l = len(str2)\n",
    "    str1 = \"*\".join( str1.split(\"-\") )\n",
    "    str2 = \"*\".join( str2.split(\"-\") )\n",
    "    score = 0\n",
    "    for i in range(l):\n",
    "        if str1[i]=='*' or str2[i]=='*':\n",
    "            if str1[i]=='*' and str2[i]=='*':\n",
    "                score +=1\n",
    "            else:\n",
    "                score += -4\n",
    "        else:\n",
    "            score += int(b62[str1[i], str2[i]])\n",
    "    return score"
   ]
  },
  {
   "cell_type": "code",
   "execution_count": 5,
   "id": "45c99c64",
   "metadata": {},
   "outputs": [
    {
     "name": "stdout",
     "output_type": "stream",
     "text": [
      "['ATN38177.1 insulin [Labeo rohita]', 'AAA40590.1 insulin [Octodon degus]', 'NP_990553.1 insulin preproinsulin precursor [Gallus gallus]', 'NP_062002.1 insulin-1 preproprotein [Rattus norvegicus]', 'NP_001103242.1 insulin precursor [Sus scrofa]', 'NP_776351.2 insulin preproprotein [Bos taurus]', 'AAA19033.1 insulin [Oryctolagus cuniculus]', 'NP_001123565.1 insulin precursor [Canis lupus familiaris]', 'AAP35454.1 insulin [Homo sapiens]', 'NP_001008996.1 insulin preproprotein [Pan troglodytes]']\n",
      "['MAVWLQAGALLFLLAVSSV-NANAGAPQHLCGSHLVDALYLVCGPTGFFYNPKRDVDPLMGFLP-PKSAQETEVADFAFKDHAEVIRKRGIVEQCCHKPCSIFELQNYCN--', 'MAPWMHLLTVLALLALWGPNSVQAYSSQHLCGSNLVEALYMTCGRSGF-YRPHDRRELEDLQVEQAELGLE--AGGLQPSALEMILQKRGIVDQCCNNICTFNQLQNYCNVP', 'MALWIRSLPLLALLVFSGPGTSYAAANQHLCGSHLVEALYLVCGERGFFYSPKARRDVEQPLVSSPLR-GEA--GVLPFQQEEYEKVKRGIVEQCCHNTCSLYQLENYCN--', 'MALWMRFLPLLALLVLWEPKPAQAFVKQHLCGPHLVEALYLVCGERGFFYTPKSRREVEDPQVPQLELGGGPEAGDLQTLALEVARQKRGIVDQCCTSICSLYQLENYCN--', 'MALWTRLLPLLALLALWAPAPAQAFVNQHLCGSHLVEALYLVCGERGFFYTPKARREAENPQAGAVELGGGL--GGLQALALEGPPQKRGIVEQCCTSICSLYQLENYCN--', 'MALWTRLAPLLALLALWAPAPARAFVNQHLCGSHLVEALYLVCGERGFFYTPKARREVEGPQVGALELAGGP--G---AGGLEGPPQKRGIVEQCCASVCSLYQLENYCN--', 'MASLAALLPLLALLVLCRLDPAQAFVNQHLCGSHLVEALYLVCGERGFFYTPKSRREVEELQVGQAELGGGPGAGGLQPSALELALQKRGIVEQCCTSICSLYQLENYCN--', 'MALWMRLLPLLALLALWAPAPTRAFVNQHLCGSHLVEALYLVCGERGFFYTPKARREVEDLQVRDVELAGAPGEGGLQPLALEGALQKRGIVEQCCTSICSLYQLENYCN--', 'MALWMRLLPLLALLALWGPDPAAAFVNQHLCGSHLVEALYLVCGERGFFYTPKTRREAEDLQVGQVELGGGPGAGSLQPLALEGSLQKRGIVEQCCTSICSLYQLENYCN--', 'MALWMRLLPLLVLLALWGPDPASAFVNQHLCGSHLVEALYLVCGERGFFYTPKTRREAEDLQVGQVELGGGPGAGSLQPLALEGSLQKRGIVEQCCTSICSLYQLENYCN--']\n"
     ]
    }
   ],
   "source": [
    "name,sequence = sequences('protein_aligned.txt')\n",
    "print(name)\n",
    "print(sequence)"
   ]
  },
  {
   "cell_type": "code",
   "execution_count": 6,
   "id": "ecd01d49",
   "metadata": {},
   "outputs": [],
   "source": [
    "dist_matrix = []\n",
    "for i in range(len(sequence)):\n",
    "    distance = []\n",
    "    for j in range(len(sequence)):\n",
    "        distance.append( get_score(sequence[i], sequence[j]) )\n",
    "    dist_matrix.append(distance)"
   ]
  },
  {
   "cell_type": "code",
   "execution_count": 7,
   "id": "6f15c935",
   "metadata": {},
   "outputs": [],
   "source": [
    "data = {}\n",
    "for i in range(len(sequence)):\n",
    "    data[name[i]] = dist_matrix[i]\n",
    "df = pd.DataFrame(data, columns = name, index=name)\n",
    "df.to_csv('Pdistance.txt')"
   ]
  }
 ],
 "metadata": {
  "kernelspec": {
   "display_name": "Python 3 (ipykernel)",
   "language": "python",
   "name": "python3"
  },
  "language_info": {
   "codemirror_mode": {
    "name": "ipython",
    "version": 3
   },
   "file_extension": ".py",
   "mimetype": "text/x-python",
   "name": "python",
   "nbconvert_exporter": "python",
   "pygments_lexer": "ipython3",
   "version": "3.8.10"
  }
 },
 "nbformat": 4,
 "nbformat_minor": 5
}
