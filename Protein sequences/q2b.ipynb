{
 "cells": [
  {
   "cell_type": "code",
   "execution_count": 1,
   "id": "e7d3eda5",
   "metadata": {},
   "outputs": [],
   "source": [
    "import numpy as np\n",
    "import pandas as pd"
   ]
  },
  {
   "cell_type": "code",
   "execution_count": 2,
   "id": "07c2dfc6",
   "metadata": {},
   "outputs": [],
   "source": [
    "def create_UPGMAtable(filename):\n",
    "    \n",
    "    df = pd.read_csv(filename,index_col=0)\n",
    "\n",
    "    Table = []\n",
    "    n = []\n",
    "    name = []\n",
    "\n",
    "    for col in df.columns:\n",
    "        n.append(col)\n",
    "    for i in range(0,len(n)):\n",
    "        dist = []\n",
    "        for j in range(0,i):\n",
    "            dist.append(df[n[i]][n[j]])\n",
    "        Table.append(dist)\n",
    "        \n",
    "    for i in n:\n",
    "        splitted = i.split(\" \", 1)\n",
    "        name.append(splitted[0])\n",
    "\n",
    "    print(\"Original half table:\")\n",
    "    print(Table)\n",
    "    print(\"\\nNames of sequences:\")\n",
    "    print(n)\n",
    "    \n",
    "    return Table,name"
   ]
  },
  {
   "cell_type": "code",
   "execution_count": 3,
   "id": "45daecb8",
   "metadata": {},
   "outputs": [],
   "source": [
    "def lowest_value(table):\n",
    "    \n",
    "    min_val = float(\"inf\")\n",
    "    x, y = -1, -1\n",
    "\n",
    "    for i in range(len(table)):\n",
    "        for j in range(len(table[i])):\n",
    "            if table[i][j] < min_val:\n",
    "                min_val = table[i][j]\n",
    "                x, y = i, j\n",
    "\n",
    "    return x, y, min_val"
   ]
  },
  {
   "cell_type": "code",
   "execution_count": 4,
   "id": "4247291c",
   "metadata": {},
   "outputs": [],
   "source": [
    "def link_names(names, x, y, min_val):\n",
    "   \n",
    "    if x > y:\n",
    "        x = x + y\n",
    "        y = x - y\n",
    "        x = x - y\n",
    "        \n",
    "    names[x] = \"(\" + names[x] + \",\" + names[y] + ':' + str(min_val/2) + \")\"\n",
    "    del names[y]    "
   ]
  },
  {
   "cell_type": "code",
   "execution_count": 5,
   "id": "ff3c7084",
   "metadata": {},
   "outputs": [],
   "source": [
    "def alter_table(table, x, y):\n",
    "    \n",
    "    if x > y:\n",
    "        x = x + y\n",
    "        y = x - y\n",
    "        x = x - y\n",
    "\n",
    "    row = []\n",
    "    for i in range(0, x):\n",
    "        row.append((table[x][i] + table[y][i])/2)\n",
    "    table[x] = row\n",
    "    \n",
    "    for i in range(x+1, y):\n",
    "        table[i][x] = (table[i][x]+table[y][i])/2\n",
    "        \n",
    "    for i in range(y+1, len(table)):\n",
    "        table[i][x] = (table[i][x]+table[i][y])/2\n",
    "        del table[i][y]\n",
    "\n",
    "    del table[y]"
   ]
  },
  {
   "cell_type": "code",
   "execution_count": 6,
   "id": "003db1a4",
   "metadata": {},
   "outputs": [],
   "source": [
    "def UPGMA(table, name):\n",
    "    \n",
    "    while len(name) > 1:\n",
    "        x, y, min_val = lowest_value(table)\n",
    "        alter_table(table, x, y)\n",
    "        link_names(name, x, y, min_val)\n",
    "    return name"
   ]
  },
  {
   "cell_type": "code",
   "execution_count": 7,
   "id": "7fddc0be",
   "metadata": {},
   "outputs": [
    {
     "name": "stdout",
     "output_type": "stream",
     "text": [
      "Original half table:\n",
      "[[], [168], [255, 237], [221, 332, 331], [201, 314, 346, 459], [200, 270, 333, 425, 499], [194, 332, 302, 444, 423, 388], [212, 347, 331, 468, 480, 451, 455], [210, 359, 330, 485, 487, 442, 481, 522], [214, 356, 326, 482, 484, 438, 478, 518, 584]]\n",
      "\n",
      "Names of sequences:\n",
      "['ATN38177.1 insulin [Labeo rohita]', 'AAA40590.1 insulin [Octodon degus]', 'NP_990553.1 insulin preproinsulin precursor [Gallus gallus]', 'NP_062002.1 insulin-1 preproprotein [Rattus norvegicus]', 'NP_001103242.1 insulin precursor [Sus scrofa]', 'NP_776351.2 insulin preproprotein [Bos taurus]', 'AAA19033.1 insulin [Oryctolagus cuniculus]', 'NP_001123565.1 insulin precursor [Canis lupus familiaris]', 'AAP35454.1 insulin [Homo sapiens]', 'NP_001008996.1 insulin preproprotein [Pan troglodytes]']\n"
     ]
    }
   ],
   "source": [
    "Table,names=create_UPGMAtable('Pdistance.txt')\n",
    "tree = UPGMA(Table,names)"
   ]
  },
  {
   "cell_type": "code",
   "execution_count": 8,
   "id": "2164cea8",
   "metadata": {},
   "outputs": [
    {
     "name": "stdout",
     "output_type": "stream",
     "text": [
      "Phylogenetic tree:\n",
      "['(((((((((ATN38177.1,AAA40590.1:84.0),NP_776351.2:117.5),NP_990553.1:144.75),AAA19033.1:156.875),NP_062002.1:196.21875),NP_001103242.1:212.890625),NP_001123565.1:228.6953125),NP_001008996.1:245.8046875),AAP35454.1:269.775390625)']\n"
     ]
    }
   ],
   "source": [
    "print(\"Phylogenetic tree:\")\n",
    "print(tree)"
   ]
  }
 ],
 "metadata": {
  "kernelspec": {
   "display_name": "Python 3 (ipykernel)",
   "language": "python",
   "name": "python3"
  },
  "language_info": {
   "codemirror_mode": {
    "name": "ipython",
    "version": 3
   },
   "file_extension": ".py",
   "mimetype": "text/x-python",
   "name": "python",
   "nbconvert_exporter": "python",
   "pygments_lexer": "ipython3",
   "version": "3.8.10"
  }
 },
 "nbformat": 4,
 "nbformat_minor": 5
}
