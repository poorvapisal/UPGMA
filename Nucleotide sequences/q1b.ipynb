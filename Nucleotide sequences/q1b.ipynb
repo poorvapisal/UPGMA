{
 "cells": [
  {
   "cell_type": "code",
   "execution_count": 1,
   "id": "60bdeb46",
   "metadata": {},
   "outputs": [],
   "source": [
    "import numpy as np\n",
    "import pandas as pd"
   ]
  },
  {
   "cell_type": "code",
   "execution_count": 2,
   "id": "3efe065d",
   "metadata": {},
   "outputs": [],
   "source": [
    "def create_UPGMAtable(filename):\n",
    "    \n",
    "    df = pd.read_csv(filename,index_col=0)\n",
    "\n",
    "    Table = []\n",
    "    n = []\n",
    "    name = []\n",
    "\n",
    "    for col in df.columns:\n",
    "        n.append(col)\n",
    "    for i in range(0,len(n)):\n",
    "        dist = []\n",
    "        for j in range(0,i):\n",
    "            dist.append(df[n[i]][n[j]])\n",
    "        Table.append(dist)\n",
    "        \n",
    "    for i in n:\n",
    "        splitted = i.split(\" \", 1)\n",
    "        name.append(splitted[0])\n",
    "\n",
    "    print(\"Original half table:\")\n",
    "    print(Table)\n",
    "    print(\"\\nNames of sequences:\")\n",
    "    print(n)\n",
    "    \n",
    "    return Table,name"
   ]
  },
  {
   "cell_type": "code",
   "execution_count": 3,
   "id": "848b1e6b",
   "metadata": {},
   "outputs": [],
   "source": [
    "def lowest_value(table):\n",
    "    \n",
    "    min_val = float(\"inf\")\n",
    "    x, y = -1, -1\n",
    "\n",
    "    for i in range(len(table)):\n",
    "        for j in range(len(table[i])):\n",
    "            if table[i][j] < min_val:\n",
    "                min_val = table[i][j]\n",
    "                x, y = i, j\n",
    "\n",
    "    return x, y, min_val"
   ]
  },
  {
   "cell_type": "code",
   "execution_count": 4,
   "id": "8e2b0c54",
   "metadata": {},
   "outputs": [],
   "source": [
    "def link_names(names, x, y, min_val):\n",
    "   \n",
    "    if x > y:\n",
    "        x = x + y\n",
    "        y = x - y\n",
    "        x = x - y\n",
    "        \n",
    "    names[x] = \"(\" + names[x] + \",\" + names[y] + ':' + str(min_val/2) + \")\"\n",
    "    del names[y]    "
   ]
  },
  {
   "cell_type": "code",
   "execution_count": 5,
   "id": "ae3de5cc",
   "metadata": {},
   "outputs": [],
   "source": [
    "def alter_table(table, x, y):\n",
    "    \n",
    "    if x > y:\n",
    "        x = x + y\n",
    "        y = x - y\n",
    "        x = x - y\n",
    "\n",
    "    row = []\n",
    "    for i in range(0, x):\n",
    "        row.append((table[x][i] + table[y][i])/2)\n",
    "    table[x] = row\n",
    "    \n",
    "    for i in range(x+1, y):\n",
    "        table[i][x] = (table[i][x]+table[y][i])/2\n",
    "        \n",
    "    for i in range(y+1, len(table)):\n",
    "        table[i][x] = (table[i][x]+table[i][y])/2\n",
    "        del table[i][y]\n",
    "\n",
    "    del table[y]"
   ]
  },
  {
   "cell_type": "code",
   "execution_count": 6,
   "id": "f233b2a3",
   "metadata": {},
   "outputs": [],
   "source": [
    "def UPGMA(table, name):\n",
    "    \n",
    "    while len(name) > 1:\n",
    "        x, y, min_val = lowest_value(table)\n",
    "        alter_table(table, x, y)\n",
    "        link_names(name, x, y, min_val)\n",
    "    return name"
   ]
  },
  {
   "cell_type": "code",
   "execution_count": 7,
   "id": "d0ea0ee1",
   "metadata": {},
   "outputs": [
    {
     "name": "stdout",
     "output_type": "stream",
     "text": [
      "Original half table:\n",
      "[[], [0.5739750445632799], [0.6835443037974683, 0.5834896810506567], [0.6499102333931778, 0.5543071161048689, 0.4594017094017094], [0.6396396396396397, 0.5411985018726592, 0.4498933901918976, 0.3842887473460722], [0.6477064220183486, 0.5543071161048689, 0.408296943231441, 0.4107883817427386, 0.3860759493670886], [0.6552962298025135, 0.5463137996219282, 0.4344978165938865, 0.2783964365256124, 0.3634408602150538, 0.3823529411764705], [0.6218181818181818, 0.5202952029520295, 0.4578059071729958, 0.3975903614457831, 0.40973630831643, 0.3261802575107296, 0.3556910569105691], [0.6972477064220184, 0.602996254681648, 0.4625850340136054, 0.4097995545657015, 0.4190064794816415, 0.3648960739030023, 0.3673469387755102, 0.3779697624190065], [0.6786355475763016, 0.5692883895131086, 0.429193899782135, 0.3162583518930957, 0.3462365591397849, 0.3949579831932773, 0.2925170068027211, 0.3902439024390244, 0.2139423076923076]]\n",
      "\n",
      "Names of sequences:\n",
      "['KX951416.1 Labeo rohita insulin mRNA, complete cds', 'NM_205222.3 Gallus gallus insulin (INS-IGF2), mRNA', 'M57671.1 Octodon degus insulin mRNA, complete cds', 'NM_173926.2 Bos taurus insulin (INS), transcript variant 1, mRNA', 'NM_019129.3 Rattus norvegicus insulin 1 (Ins1), mRNA', 'U03610.1 Oryctolagus cuniculus New Zealand White insulin mRNA, complete cds', 'NM_001109772.1 Sus scrofa insulin (INS), mRNA', 'NM_001130093.2 Canis lupus familiaris insulin (INS), mRNA', 'BT006808.1 Homo sapiens insulin mRNA, complete cds', 'NM_001008996.2 Pan troglodytes insulin (INS), mRNA']\n"
     ]
    }
   ],
   "source": [
    "Table,names=create_UPGMAtable('Ndistance.txt')\n",
    "tree = UPGMA(Table,names)"
   ]
  },
  {
   "cell_type": "code",
   "execution_count": 8,
   "id": "c8af77c2",
   "metadata": {},
   "outputs": [
    {
     "name": "stdout",
     "output_type": "stream",
     "text": [
      "Phylogenetic tree:\n",
      "['(KX951416.1,(NM_205222.3,(M57671.1,((((NM_173926.2,NM_001109772.1:0.1391982182628062),(BT006808.1,NM_001008996.2:0.1069711538461538):0.17324023150462858),NM_019129.3:0.18912158077281904),(U03610.1,NM_001130093.2:0.1630901287553648):0.19555435918637332):0.22030198194302106):0.2823741209445358):0.30954419513971204)']\n"
     ]
    }
   ],
   "source": [
    "print(\"Phylogenetic tree:\")\n",
    "print(tree)"
   ]
  }
 ],
 "metadata": {
  "kernelspec": {
   "display_name": "Python 3 (ipykernel)",
   "language": "python",
   "name": "python3"
  },
  "language_info": {
   "codemirror_mode": {
    "name": "ipython",
    "version": 3
   },
   "file_extension": ".py",
   "mimetype": "text/x-python",
   "name": "python",
   "nbconvert_exporter": "python",
   "pygments_lexer": "ipython3",
   "version": "3.8.10"
  }
 },
 "nbformat": 4,
 "nbformat_minor": 5
}
