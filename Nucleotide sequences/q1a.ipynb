{
 "cells": [
  {
   "cell_type": "code",
   "execution_count": 1,
   "id": "6dd2a052",
   "metadata": {},
   "outputs": [],
   "source": [
    "import numpy as np\n",
    "import pandas as pd"
   ]
  },
  {
   "cell_type": "code",
   "execution_count": 2,
   "id": "de2a8a24",
   "metadata": {},
   "outputs": [],
   "source": [
    "def sequences(filename):\n",
    "    \n",
    "    file = open(filename, 'r')\n",
    "    Lines = file.readlines()\n",
    "    \n",
    "    name=[]\n",
    "    sequence=[]\n",
    "    n=\"\"\n",
    "    seq=\"\"\n",
    "    \n",
    "    for line in Lines:\n",
    "        if line[0]=='\\n':\n",
    "            name.append(n)\n",
    "            sequence.append(seq)\n",
    "            n=\"\"\n",
    "            seq=\"\"\n",
    "        \n",
    "        elif line[0]=='>':\n",
    "            for i in range(len(line)):\n",
    "                if line[i]!='\\n' and line[i]!=\">\":\n",
    "                    n = n + line[i]\n",
    "            \n",
    "        else:\n",
    "            for i in range(len(line)):\n",
    "                if line[i]!='\\n' and line[i]!=\" \":\n",
    "                    seq = seq + line[i]\n",
    "                  \n",
    "    return name,sequence"
   ]
  },
  {
   "cell_type": "code",
   "execution_count": 3,
   "id": "1a27e7b3",
   "metadata": {},
   "outputs": [],
   "source": [
    "def Distance (seq1, seq2):\n",
    "    l = len(seq1)\n",
    "    mismatch = 0\n",
    "    dash = 0\n",
    "    for i in range(l):\n",
    "        if seq1[i]==seq2[i]:\n",
    "            if seq1[i]==\"-\":\n",
    "                dash += 1\n",
    "        else:\n",
    "            mismatch += 1\n",
    "    return (mismatch/(l-dash))"
   ]
  },
  {
   "cell_type": "code",
   "execution_count": 4,
   "id": "bcd620cb",
   "metadata": {},
   "outputs": [
    {
     "name": "stdout",
     "output_type": "stream",
     "text": [
      "['KX951416.1 Labeo rohita insulin mRNA, complete cds', 'NM_205222.3 Gallus gallus insulin (INS-IGF2), mRNA', 'M57671.1 Octodon degus insulin mRNA, complete cds', 'NM_173926.2 Bos taurus insulin (INS), transcript variant 1, mRNA', 'NM_019129.3 Rattus norvegicus insulin 1 (Ins1), mRNA', 'U03610.1 Oryctolagus cuniculus New Zealand White insulin mRNA, complete cds', 'NM_001109772.1 Sus scrofa insulin (INS), mRNA', 'NM_001130093.2 Canis lupus familiaris insulin (INS), mRNA', 'BT006808.1 Homo sapiens insulin mRNA, complete cds', 'NM_001008996.2 Pan troglodytes insulin (INS), mRNA']\n",
      "['CCGATGTGCTCTGAAAGCCTGGATGCAAAAACACCTTCTCTTGTCTACCA----TCTCTACCA-------TTCCTTGTCC-----TCTGCTGCAAGAACAGTGTGACCATGGCAGTGTGGCTCCAGGCTGGTGCTCTTTTGTTCTTGTTGGCCGTC---TCCAGTGTGAACGCTAACGCAGGGGCCCCACAGCATCTGTGTGGATCTCATCTGGTCGATGCCCTCTACCTGGTCTGTGGTCCAACAGGATTCTTCTACAACCCCAAGAGAGATGTTGACCCTCTTATGGGTTTCCTTC---CTCCAAAATCTGCCCAGGAAACTGAGGTGGCTGACTTTGCATTTAAAGATCATGCCGAGGTGATAAGGAAGAGAGGCATTGTGGAGCAGTGTTGCCACAAACCCTGCAGTATCTTTGAGCTGCAGAACTACTGTAACTAAAGAACCTGCACATGTCTTGTGACAACTGCCAGTGACTTTACCACCTGTTTGCACACAGGTATCATGGGAATTACGAGAACTAAACAAAAAGTATCTTTTATTTTAAAATAGTTTACTTTT', '--ATATAAATATGGGAAAGAGAATGGGGAAATTTCTACCAGTCTTCATCTCTGAGAGCAAACTTCTCTGCATCTCTTTCTCTCTTCTCTGGGCCTCCCCCAGCTCATCATGGCTCTCTGGATCCGATCACTGCCTCTTCTGGCTCTCCTTGTCTTTTCTGGCCCTGGAACCAGCTATGCAGCTGCCAACCAGCACCTCTGTGGCTCCCACTTGGTGGAGGCTCTCTACCTGGTGTGTGGAGAGCGTGGCTTCTTCTACTCCCCCAAAGCCCGACGGGATGTCGAGCAGCCCCTAGTGAGCAGTCCCTTGCGTGGCGAGGC---------AGGAGTGCTGCCTTTCCAGCAGGAGGAATACGAGAAAGTCAAGCGAGGGATTGTTGAGCAATGCTGCCATAACACGTGTTCCCTCTACCAACTGGAGAACTACTGCAACTAGCCAAGAAGCCGGAAGCGGGCACAGACATACACTTACTCTATCGCACCTTCAAAGCATTTGAATAAACCTTGTTGGTCTACTGGAAGACTTG------TGCC-------------------', '---------------------------------------------------------------G----CATTCTGAGGCATTCTCTAACAGGTTCTCGACCCTCCGCCATGGCCCCGTGGATGCATCTCCTCACCGTGCTGGCCCTGCTGGCCCTCTGGGGACCCAACTCTGTTCAGGCCTATTCCAGCCAGCACCTGTGCGGCTCCAACCTAGTGGAGGCACTGTACATGACATGTGGACGGAGTGGCTTCTATAG---ACCCCACGACCGCCGAGAGCTGGAGGACCTCCAGGTGGAGCAGGCAGAACTGGGT------CTGGAGGCAGGCGGCCTGCAGCCTTCGGCCCTGGAGATGATTCTGCAGAAGCGCGGCATTGTGGATCAGTGCTGTAATAACATTTGCACATTTAACCAGCTGCAGAACTACTGCAATGTCCCTTAGACACCTGCCTTGGGCCTGGCCTGCTGCTCTGCCCTGGCAACC-------AA---TAAACCCCTTGAATGAG-------------------------------------------', '---------------------------------------AGCCCCCCGCCCTCAGGACCGGCTG----CATTCGAGGCTGCCAGCAAGCAGGTCCTCGCAGCCCCGCCATGGCCCTGTGGACACGCCTGGCGCCCCTGCTGGCCCTGCTGGCGCTCTGGGCCCCCGCCCCGGCCCGCGCCTTCGTCAACCAGCATCTGTGTGGCTCCCACCTGGTGGAGGCGCTGTACCTGGTGTGCGGAGAGCGCGGCTTCTTCTACACGCCCAAGGCCCGCCGGGAGGTGGAGGGCCCCCAGGTGGGGGCGCTGGAGCTGGCCGGAGGCCCGGGCGCGGGC---------------GGCCTGGAGGGGCCCCCGCAGAAGCGTGGCATCGTGGAGCAGTGCTGTGCCAGCGTCTGCTCGCTCTACCAGCTGGAGAACTACTGTAACTAGGCCTGCCCCCGACACCAATAAACCCCTTGACGAGCCCTGCAAAAAAAAAAA---------------------------------------------------------------------', '---------------------------------------------AACCCTAAGTGACCAGCTA------CAATCATAGACCATCAGCAAGCAGGTCATTGTTCCAACATGGCCCTGTGGATGCGCTTCCTGCCCCTGCTGGCCCTGCTCGTCCTCTGGGAGCCCAAGCCTGCCCAGGCTTTTGTCAAACAGCACCTTTGTGGTCCTCACCTGGTGGAGGCTCTGTACCTGGTGTGTGGGGAACGTGGTTTCTTCTACACACCCAAGTCCCGTCGTGAAGTGGAGGACCCGCAAGTGCCACAACTGGAGCTGGGTGGAGGCCCGGAGGCCGGGGATCTTCAGACCTTGGCACTGGAGGTTGCCCGGCAGAAGCGTGGCATTGTGGATCAGTGCTGCACCAGCATCTGCTCCCTCTACCAACTGGAGAACTACTGCAACTGAGTCCACCACTCCCCGCCCACCCCTCTGCAATGAATAAAGCCTTTGAATGAGCACCAAAAAAAAAAAAAAAAAA-----------------------------------------------', '--------------------------------------------------------------------------------------------TCATCGGCTCTGCACCATGGCCTCCCTGGCCGCGCTCCTGCCCCTGCTGGCCCTGCTGGTCCTCTGCAGACTGGATCCTGCCCAGGCCTTCGTCAACCAGCACCTGTGCGGCTCTCACCTGGTGGAGGCGCTGTACCTGGTGTGCGGGGAGCGCGGCTTTTTTTATACACCCAAGTCCCGCCGCGAGGTGGAGGAGCTGCAGGTGGGGCAGGCGGAGCTGGGCGGGGGGCCCGGCGCGGGCGGCCTGCAGCCCTCGGCGCTGGAGCTGGCCCTGCAGAAGCGCGGCATCGTGGAGCAGTGTTGCACCAGCATCTGCTCGCTCTACCAGCTGGAGAACTACTGCAACTAGGGGTGCCCCCCACCCACCCCTGCCCGCGCCCCCCACGCCCCCCGCCCTCGCCCCCACCCAATAAACCCCTCCACGCGCCCCGG---------------G---------------------', '---------------------------------------------AGCCCTCTGGGACCAGCTG----TGTTCCCAGGCCACCGGCAAGCAGGTCCTCACCCCCCGCCATGGCCCTGTGGACGCGCCTCCTGCCCCTGCTGGCCCTGCTGGCCCTCTGGGCGCCCGCCCCGGCCCAGGCCTTCGTGAACCAGCACCTGTGCGGCTCCCACCTGGTGGAGGCGCTGTACCTGGTGTGCGGGGAGCGCGGCTTCTTCTACACGCCCAAGGCCCGTCGGGAGGCGGAGAACCCTCAGGCAGGTGCCGTGGAGCTGGGCGGAG------GCCTGGGCGGCCTGCAGGCCCTGGCGCTGGAGGGGCCCCCGCAGAAGCGTGGCATCGTGGAGCAGTGCTGCACCAGCATCTGTTCCCTCTACCAGCTGGAGAACTACTGCAACTAGGCCGCCCCTGAGGGCGCCTGCTGCTCCCCGCACCCCAAAACCCAATAAA-----------------------------------------------------------------------', '------------------------------------------------------------------------------CACCCCGACACGGCCGGCAAACAGGTCGCCATGGCCCTCTGGATGCGCCTCCTGCCCCTGCTGGCCCTGCTGGCCCTCTGGGCGCCCGCGCCCACCCGAGCCTTCGTTAACCAGCACCTGTGTGGCTCCCACCTGGTAGAGGCTCTGTACCTGGTGTGCGGGGAGCGCGGCTTCTTCTACACGCCTAAGGCCCGCCGGGAGGTGGAGGACCTGCAGGTGAGGGACGTGGAGCTGGCCGGGGCGCCTGGCGAGGGCGGCCTGCAGCCCCTGGCCCTGGAGGGGGCCCTGCAGAAGCGAGGCATCGTGGAGCAGTGCTGCACCAGCATCTGCTCCCTCTACCAGCTGGAGAATTACTGCAACTAGGGGCGCGGGGGGCAGGACGTGGCAGCACCTGCTGCAGGTCACGGTGGCCGCA---AGCCTTCGGCTCTCTGCACCCCAAGTGATTCAATAAACCCTCTGAATG-----------------', '------------------------------------------------------------------------------------------------------------ATGGCCCTGTGGATGCGCCTCCTGCCCCTGCTGGCGCTGCTGGCCCTCTGGGGACCTGACCCAGCCGCAGCCTTTGTGAACCAACACCTGTGCGGCTCACACCTGGTGGAAGCTCTCTACCTAGTGTGCGGGGAACGAGGCTTCTTCTACACACCCAAGACCCGCCGGGAGGCAGAGGACCTGCAGGTGGGGCAGGTGGAGCTGGGCGGGGGCCCTGGTGCAGGCAGCCTGCAGCCCTTGGCCCTGGAGGGGTCCCTGCAGAAGCGTGGCATTGTGGAACAATGCTGTACCAGCATCTGCTCCCTCTACCAGCTGGAGAACTACTGCAACTAG------------------------------------------------------------------------------------------------------------------------', '---------------------------------------------AGCCCTCCAGGACAGGCTG----CATCAGAAGAGGCCATCAAGCAGATCACTGTCCTTCTGCCATGGCCCTGTGGATGCGCCTCCTGCCCCTGCTGGTGCTGCTGGCCCTCTGGGGACCTGACCCAGCCTCGGCCTTTGTGAACCAACACCTGTGCGGCTCCCACCTGGTGGAAGCTCTCTACCTAGTGTGCGGGGAACGAGGCTTCTTCTACACACCCAAGACCCGCCGGGAGGCAGAGGACCTGCAGGTGGGGCAGGTGGAGCTGGGCGGGGGCCCTGGTGCAGGCAGCCTGCAGCCCTTGGCCCTGGAGGGGTCCCTGCAGAAGCGTGGTATCGTGGAACAATGCTGTACCAGCATCTGCTCCCTCTACCAGCTGGAGAACTACTGCAACTAGATGGAATAAAGCCCTTGAACCAGC------------------------------------------------------------------------------------------------']\n"
     ]
    }
   ],
   "source": [
    "name,sequence = sequences('nucleotide_aligned.txt')\n",
    "dist_matrix = np.zeros((len(sequence) , len(sequence)))\n",
    "print(name)\n",
    "print(sequence)"
   ]
  },
  {
   "cell_type": "code",
   "execution_count": 5,
   "id": "079b9261",
   "metadata": {},
   "outputs": [],
   "source": [
    "for i in range(len(sequence)):\n",
    "        for j in range(len(sequence)):\n",
    "            if i!=j:\n",
    "                dist = (Distance(sequence[i] , sequence[j]))\n",
    "                dist_matrix[i][j] = float(dist)"
   ]
  },
  {
   "cell_type": "code",
   "execution_count": 6,
   "id": "c41fa680",
   "metadata": {},
   "outputs": [],
   "source": [
    "data = {}\n",
    "for i in range(len(sequence)):\n",
    "    data[name[i]] = dist_matrix[i]\n",
    "df = pd.DataFrame(data, columns = name, index=name)\n",
    "df.to_csv('Ndistance.txt')"
   ]
  }
 ],
 "metadata": {
  "kernelspec": {
   "display_name": "Python 3 (ipykernel)",
   "language": "python",
   "name": "python3"
  },
  "language_info": {
   "codemirror_mode": {
    "name": "ipython",
    "version": 3
   },
   "file_extension": ".py",
   "mimetype": "text/x-python",
   "name": "python",
   "nbconvert_exporter": "python",
   "pygments_lexer": "ipython3",
   "version": "3.8.10"
  }
 },
 "nbformat": 4,
 "nbformat_minor": 5
}
